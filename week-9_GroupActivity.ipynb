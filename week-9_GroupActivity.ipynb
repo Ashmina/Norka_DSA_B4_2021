{
 "cells": [
  {
   "cell_type": "markdown",
   "id": "1a2538be",
   "metadata": {},
   "source": [
    "# ANOVA on Advertising dataset"
   ]
  },
  {
   "cell_type": "markdown",
   "id": "184c6d79",
   "metadata": {},
   "source": [
    "## Submitted by: Group 7"
   ]
  },
  {
   "cell_type": "markdown",
   "id": "39a269f2",
   "metadata": {},
   "source": [
    "## Contributors: *Fen Francis Pereira, Jayaram K, Ashmina T.*"
   ]
  },
  {
   "cell_type": "markdown",
   "id": "02a1bf6e",
   "metadata": {},
   "source": [
    "**Objective:** Do the following on the dataset  \n",
    "1. Explain the dataset\n",
    "2. Check the summary statistics and discuss the max, min, avg, median,\n",
    "and percentiles.\n",
    "3. The manager wants to find out whether the same amount was spent\n",
    "for the three advertisements (TV , Radio and Newspaper). Comment\n",
    "on your findings."
   ]
  },
  {
   "cell_type": "code",
   "execution_count": 1,
   "id": "2a08d8f7",
   "metadata": {},
   "outputs": [],
   "source": [
    "#importing libraries\n",
    "import numpy as np\n",
    "import pandas as pd\n",
    "import matplotlib.pyplot as plt\n",
    "import seaborn as sns\n",
    "from scipy.stats import f_oneway"
   ]
  },
  {
   "cell_type": "code",
   "execution_count": 2,
   "id": "37712804",
   "metadata": {},
   "outputs": [],
   "source": [
    "#loading the dataset\n",
    "ad_data = pd.read_csv('Advertising.csv')"
   ]
  },
  {
   "cell_type": "markdown",
   "id": "7d2dc15e",
   "metadata": {},
   "source": [
    "### 1. Explain the dataset"
   ]
  },
  {
   "cell_type": "code",
   "execution_count": 3,
   "id": "52b987e6",
   "metadata": {},
   "outputs": [
    {
     "data": {
      "text/html": [
       "<div>\n",
       "<style scoped>\n",
       "    .dataframe tbody tr th:only-of-type {\n",
       "        vertical-align: middle;\n",
       "    }\n",
       "\n",
       "    .dataframe tbody tr th {\n",
       "        vertical-align: top;\n",
       "    }\n",
       "\n",
       "    .dataframe thead th {\n",
       "        text-align: right;\n",
       "    }\n",
       "</style>\n",
       "<table border=\"1\" class=\"dataframe\">\n",
       "  <thead>\n",
       "    <tr style=\"text-align: right;\">\n",
       "      <th></th>\n",
       "      <th>Unnamed: 0</th>\n",
       "      <th>TV</th>\n",
       "      <th>Radio</th>\n",
       "      <th>Newspaper</th>\n",
       "      <th>Sales</th>\n",
       "    </tr>\n",
       "  </thead>\n",
       "  <tbody>\n",
       "    <tr>\n",
       "      <th>0</th>\n",
       "      <td>1</td>\n",
       "      <td>230.1</td>\n",
       "      <td>37.8</td>\n",
       "      <td>69.2</td>\n",
       "      <td>22.1</td>\n",
       "    </tr>\n",
       "    <tr>\n",
       "      <th>1</th>\n",
       "      <td>2</td>\n",
       "      <td>44.5</td>\n",
       "      <td>39.3</td>\n",
       "      <td>45.1</td>\n",
       "      <td>10.4</td>\n",
       "    </tr>\n",
       "    <tr>\n",
       "      <th>2</th>\n",
       "      <td>3</td>\n",
       "      <td>17.2</td>\n",
       "      <td>45.9</td>\n",
       "      <td>69.3</td>\n",
       "      <td>9.3</td>\n",
       "    </tr>\n",
       "    <tr>\n",
       "      <th>3</th>\n",
       "      <td>4</td>\n",
       "      <td>151.5</td>\n",
       "      <td>41.3</td>\n",
       "      <td>58.5</td>\n",
       "      <td>18.5</td>\n",
       "    </tr>\n",
       "    <tr>\n",
       "      <th>4</th>\n",
       "      <td>5</td>\n",
       "      <td>180.8</td>\n",
       "      <td>10.8</td>\n",
       "      <td>58.4</td>\n",
       "      <td>12.9</td>\n",
       "    </tr>\n",
       "  </tbody>\n",
       "</table>\n",
       "</div>"
      ],
      "text/plain": [
       "   Unnamed: 0     TV  Radio  Newspaper  Sales\n",
       "0           1  230.1   37.8       69.2   22.1\n",
       "1           2   44.5   39.3       45.1   10.4\n",
       "2           3   17.2   45.9       69.3    9.3\n",
       "3           4  151.5   41.3       58.5   18.5\n",
       "4           5  180.8   10.8       58.4   12.9"
      ]
     },
     "execution_count": 3,
     "metadata": {},
     "output_type": "execute_result"
    }
   ],
   "source": [
    "#displaying first 5 rows\n",
    "ad_data.head()"
   ]
  },
  {
   "cell_type": "markdown",
   "id": "b893e78f",
   "metadata": {},
   "source": [
    "The dataset contains statistics about the sales of a product in different markets, together with advertising budgets in each of these markets for different media channels: TV, radio and newspaper.\n",
    "The sales are in thousands of units and the budget is in thousands of dollars."
   ]
  },
  {
   "cell_type": "code",
   "execution_count": 4,
   "id": "0b538660",
   "metadata": {},
   "outputs": [],
   "source": [
    "#removing the column 'Unnamed: 0' as it is redundant\n",
    "data = ad_data.drop('Unnamed: 0',axis=1)"
   ]
  },
  {
   "cell_type": "code",
   "execution_count": 5,
   "id": "c03398d5",
   "metadata": {},
   "outputs": [
    {
     "data": {
      "text/html": [
       "<div>\n",
       "<style scoped>\n",
       "    .dataframe tbody tr th:only-of-type {\n",
       "        vertical-align: middle;\n",
       "    }\n",
       "\n",
       "    .dataframe tbody tr th {\n",
       "        vertical-align: top;\n",
       "    }\n",
       "\n",
       "    .dataframe thead th {\n",
       "        text-align: right;\n",
       "    }\n",
       "</style>\n",
       "<table border=\"1\" class=\"dataframe\">\n",
       "  <thead>\n",
       "    <tr style=\"text-align: right;\">\n",
       "      <th></th>\n",
       "      <th>TV</th>\n",
       "      <th>Radio</th>\n",
       "      <th>Newspaper</th>\n",
       "      <th>Sales</th>\n",
       "    </tr>\n",
       "  </thead>\n",
       "  <tbody>\n",
       "    <tr>\n",
       "      <th>0</th>\n",
       "      <td>230.1</td>\n",
       "      <td>37.8</td>\n",
       "      <td>69.2</td>\n",
       "      <td>22.1</td>\n",
       "    </tr>\n",
       "    <tr>\n",
       "      <th>1</th>\n",
       "      <td>44.5</td>\n",
       "      <td>39.3</td>\n",
       "      <td>45.1</td>\n",
       "      <td>10.4</td>\n",
       "    </tr>\n",
       "    <tr>\n",
       "      <th>2</th>\n",
       "      <td>17.2</td>\n",
       "      <td>45.9</td>\n",
       "      <td>69.3</td>\n",
       "      <td>9.3</td>\n",
       "    </tr>\n",
       "    <tr>\n",
       "      <th>3</th>\n",
       "      <td>151.5</td>\n",
       "      <td>41.3</td>\n",
       "      <td>58.5</td>\n",
       "      <td>18.5</td>\n",
       "    </tr>\n",
       "    <tr>\n",
       "      <th>4</th>\n",
       "      <td>180.8</td>\n",
       "      <td>10.8</td>\n",
       "      <td>58.4</td>\n",
       "      <td>12.9</td>\n",
       "    </tr>\n",
       "  </tbody>\n",
       "</table>\n",
       "</div>"
      ],
      "text/plain": [
       "      TV  Radio  Newspaper  Sales\n",
       "0  230.1   37.8       69.2   22.1\n",
       "1   44.5   39.3       45.1   10.4\n",
       "2   17.2   45.9       69.3    9.3\n",
       "3  151.5   41.3       58.5   18.5\n",
       "4  180.8   10.8       58.4   12.9"
      ]
     },
     "execution_count": 5,
     "metadata": {},
     "output_type": "execute_result"
    }
   ],
   "source": [
    "data.head()"
   ]
  },
  {
   "cell_type": "code",
   "execution_count": 6,
   "id": "cd2df496",
   "metadata": {},
   "outputs": [
    {
     "data": {
      "text/plain": [
       "(200, 4)"
      ]
     },
     "execution_count": 6,
     "metadata": {},
     "output_type": "execute_result"
    }
   ],
   "source": [
    "#getting the shape of the dataset\n",
    "data.shape"
   ]
  },
  {
   "cell_type": "markdown",
   "id": "f9fbe699",
   "metadata": {},
   "source": [
    "This dataset contains 200 rows and 4 columns"
   ]
  },
  {
   "cell_type": "code",
   "execution_count": 7,
   "id": "fa05bb83",
   "metadata": {},
   "outputs": [
    {
     "name": "stdout",
     "output_type": "stream",
     "text": [
      "<class 'pandas.core.frame.DataFrame'>\n",
      "RangeIndex: 200 entries, 0 to 199\n",
      "Data columns (total 4 columns):\n",
      " #   Column     Non-Null Count  Dtype  \n",
      "---  ------     --------------  -----  \n",
      " 0   TV         200 non-null    float64\n",
      " 1   Radio      200 non-null    float64\n",
      " 2   Newspaper  200 non-null    float64\n",
      " 3   Sales      200 non-null    float64\n",
      "dtypes: float64(4)\n",
      "memory usage: 6.4 KB\n"
     ]
    }
   ],
   "source": [
    "#getting the concise summary of the dataset\n",
    "data.info()"
   ]
  },
  {
   "cell_type": "markdown",
   "id": "f9e47e80",
   "metadata": {},
   "source": [
    "There are 200 non-null float values in each column"
   ]
  },
  {
   "cell_type": "code",
   "execution_count": 8,
   "id": "6b66b0a7",
   "metadata": {},
   "outputs": [
    {
     "data": {
      "text/plain": [
       "TV           0\n",
       "Radio        0\n",
       "Newspaper    0\n",
       "Sales        0\n",
       "dtype: int64"
      ]
     },
     "execution_count": 8,
     "metadata": {},
     "output_type": "execute_result"
    }
   ],
   "source": [
    "#checking for null values\n",
    "data.isna().sum()"
   ]
  },
  {
   "cell_type": "markdown",
   "id": "eb8e3332",
   "metadata": {},
   "source": [
    "There are no null(missing) values in the dataset."
   ]
  },
  {
   "cell_type": "code",
   "execution_count": 9,
   "id": "0981f164",
   "metadata": {},
   "outputs": [
    {
     "data": {
      "image/png": "[encoded data removed]",
      "text/plain": [
       "<Figure size 1080x432 with 3 Axes>"
      ]
     },
     "metadata": {
      "needs_background": "light"
     },
     "output_type": "display_data"
    }
   ],
   "source": [
    "#scatterplot\n",
    "plt.figure(figsize = (15,6))   \n",
    "#scatterplot of TV Vs Sales\n",
    "plt.subplot(1,3,1)\n",
    "plt.scatter(data['TV'],data['Sales'],s = 12, c = 'blue') \n",
    "plt.title('Plot of TV vs Sales')\n",
    "plt.xlabel('TV')\n",
    "plt.ylabel('Sales')\n",
    "\n",
    "#scatterplot of Radio Vs Sales\n",
    "plt.subplot(1,3,2)\n",
    "plt.scatter(data['Radio'],data['Sales'],s = 12, c = 'blue') \n",
    "plt.title('Plot of Radio vs Sales')\n",
    "plt.xlabel('Radio')\n",
    "plt.ylabel('Sales')\n",
    "\n",
    "#scatterplot of Newspaper Vs Sales\n",
    "plt.subplot(1,3,3)\n",
    "plt.scatter(data['Newspaper'],data['Sales'],s = 12, c = 'blue') \n",
    "plt.title('Plot of Newspaper vs Sales')\n",
    "plt.xlabel('Newspaper')\n",
    "plt.ylabel('Sales')\n",
    "\n",
    "plt.tight_layout()"
   ]
  },
  {
   "cell_type": "markdown",
   "id": "8dd738fe",
   "metadata": {},
   "source": [
    "* We can see that TV is the consistent generator of Sales, the values are not scattered much for TV, so we can say that there is a genuine increase in sales with respect to amount spend for TV.  \n",
    "* In the case of Radio and Newspaper, we see that they are scattered and there is no consistency in making Sales.  \n",
    "* When we compare Radio and Newspaper, we can see that eventhough management spend almost double for Newspaper, there is no significant increase in sales."
   ]
  },
  {
   "cell_type": "code",
   "execution_count": 10,
   "id": "570872f2",
   "metadata": {},
   "outputs": [
    {
     "data": {
      "image/png": "[encoded data removed]",
      "text/plain": [
       "<Figure size 1080x432 with 2 Axes>"
      ]
     },
     "metadata": {
      "needs_background": "light"
     },
     "output_type": "display_data"
    }
   ],
   "source": [
    "#heatmap for correlation\n",
    "plt.figure(figsize = (15,6)) \n",
    "sns.heatmap(data.corr(),annot=True, cmap='Blues');"
   ]
  },
  {
   "cell_type": "markdown",
   "id": "1cb0958f",
   "metadata": {},
   "source": [
    "TV is having strong positive correlation with Sales and hence the most effective mode of advertisement."
   ]
  },
  {
   "cell_type": "markdown",
   "id": "c2d81a4f",
   "metadata": {},
   "source": [
    "### 2. Check the summary statistics and discuss the max, min, avg, median, and percentiles."
   ]
  },
  {
   "cell_type": "code",
   "execution_count": 11,
   "id": "bc1db19f",
   "metadata": {},
   "outputs": [
    {
     "data": {
      "text/html": [
       "<div>\n",
       "<style scoped>\n",
       "    .dataframe tbody tr th:only-of-type {\n",
       "        vertical-align: middle;\n",
       "    }\n",
       "\n",
       "    .dataframe tbody tr th {\n",
       "        vertical-align: top;\n",
       "    }\n",
       "\n",
       "    .dataframe thead th {\n",
       "        text-align: right;\n",
       "    }\n",
       "</style>\n",
       "<table border=\"1\" class=\"dataframe\">\n",
       "  <thead>\n",
       "    <tr style=\"text-align: right;\">\n",
       "      <th></th>\n",
       "      <th>TV</th>\n",
       "      <th>Radio</th>\n",
       "      <th>Newspaper</th>\n",
       "      <th>Sales</th>\n",
       "    </tr>\n",
       "  </thead>\n",
       "  <tbody>\n",
       "    <tr>\n",
       "      <th>count</th>\n",
       "      <td>200.000000</td>\n",
       "      <td>200.000000</td>\n",
       "      <td>200.000000</td>\n",
       "      <td>200.000000</td>\n",
       "    </tr>\n",
       "    <tr>\n",
       "      <th>mean</th>\n",
       "      <td>147.042500</td>\n",
       "      <td>23.264000</td>\n",
       "      <td>30.554000</td>\n",
       "      <td>14.022500</td>\n",
       "    </tr>\n",
       "    <tr>\n",
       "      <th>std</th>\n",
       "      <td>85.854236</td>\n",
       "      <td>14.846809</td>\n",
       "      <td>21.778621</td>\n",
       "      <td>5.217457</td>\n",
       "    </tr>\n",
       "    <tr>\n",
       "      <th>min</th>\n",
       "      <td>0.700000</td>\n",
       "      <td>0.000000</td>\n",
       "      <td>0.300000</td>\n",
       "      <td>1.600000</td>\n",
       "    </tr>\n",
       "    <tr>\n",
       "      <th>25%</th>\n",
       "      <td>74.375000</td>\n",
       "      <td>9.975000</td>\n",
       "      <td>12.750000</td>\n",
       "      <td>10.375000</td>\n",
       "    </tr>\n",
       "    <tr>\n",
       "      <th>50%</th>\n",
       "      <td>149.750000</td>\n",
       "      <td>22.900000</td>\n",
       "      <td>25.750000</td>\n",
       "      <td>12.900000</td>\n",
       "    </tr>\n",
       "    <tr>\n",
       "      <th>75%</th>\n",
       "      <td>218.825000</td>\n",
       "      <td>36.525000</td>\n",
       "      <td>45.100000</td>\n",
       "      <td>17.400000</td>\n",
       "    </tr>\n",
       "    <tr>\n",
       "      <th>max</th>\n",
       "      <td>296.400000</td>\n",
       "      <td>49.600000</td>\n",
       "      <td>114.000000</td>\n",
       "      <td>27.000000</td>\n",
       "    </tr>\n",
       "  </tbody>\n",
       "</table>\n",
       "</div>"
      ],
      "text/plain": [
       "               TV       Radio   Newspaper       Sales\n",
       "count  200.000000  200.000000  200.000000  200.000000\n",
       "mean   147.042500   23.264000   30.554000   14.022500\n",
       "std     85.854236   14.846809   21.778621    5.217457\n",
       "min      0.700000    0.000000    0.300000    1.600000\n",
       "25%     74.375000    9.975000   12.750000   10.375000\n",
       "50%    149.750000   22.900000   25.750000   12.900000\n",
       "75%    218.825000   36.525000   45.100000   17.400000\n",
       "max    296.400000   49.600000  114.000000   27.000000"
      ]
     },
     "execution_count": 11,
     "metadata": {},
     "output_type": "execute_result"
    }
   ],
   "source": [
    "#getting the summary statistics of the dataset\n",
    "data.describe()"
   ]
  },
  {
   "cell_type": "markdown",
   "id": "f3f4edb7",
   "metadata": {},
   "source": [
    "* The mean of all the four columns are almost similar to their respective medians. So the data can be considered as normally distributed.  \n",
    "* We can see that average amount spend is high for TV and low for Radio. So, we can say that TV is the most expensive advertisement mode and Radio is the least expensive.  \n",
    "* The maximum amount spend is for TV and the minimum amount spend is for Radio.  \n",
    "* Among the three modes of advertisement, TV is having the highest standard deviation and Radio is having the lowest standard deviation."
   ]
  },
  {
   "cell_type": "code",
   "execution_count": 12,
   "id": "fd402e9e",
   "metadata": {},
   "outputs": [
    {
     "data": {
      "image/png": "[encoded data removed]",
      "text/plain": [
       "<Figure size 720x432 with 1 Axes>"
      ]
     },
     "metadata": {
      "needs_background": "light"
     },
     "output_type": "display_data"
    }
   ],
   "source": [
    "#boxplot\n",
    "plt.figure(figsize=(10,6))\n",
    "plt.boxplot(data[['TV','Radio','Newspaper']])\n",
    "plt.title(\"Box plot of different advertisement methods\",fontsize=15)\n",
    "plt.xticks([1,2,3],[\"TV\",\"Radio\",\"Newspaper\"])\n",
    "plt.show()"
   ]
  },
  {
   "cell_type": "markdown",
   "id": "bd2f1e16",
   "metadata": {},
   "source": [
    "There are two outliers for Newspaper. Eventhough the Newspaper is having a median value of about 25, the outliers drifted the mean value to 30 which is slightly higher than the median value."
   ]
  },
  {
   "cell_type": "markdown",
   "id": "376f619a",
   "metadata": {},
   "source": [
    "### 3. The manager wants to find out whether the same amount was spent for the three advertisements (TV , Radio and Newspaper). Comment on your findings."
   ]
  },
  {
   "cell_type": "markdown",
   "id": "251cd61d",
   "metadata": {},
   "source": [
    "Here we have to use One-way ANOVA test. "
   ]
  },
  {
   "cell_type": "markdown",
   "id": "f6acb782",
   "metadata": {},
   "source": [
    "**H<sub>0</sub> :** All the population means are equal(μ1 = μ2 = μ3), i.e. amount spent for the three advertisements are equal.  \n",
    "**H<sub>a</sub> :** At least one population mean is different from the rest,i.e. amount spent for the three advertisements are not all equal."
   ]
  },
  {
   "cell_type": "code",
   "execution_count": 13,
   "id": "c059ab2c",
   "metadata": {},
   "outputs": [],
   "source": [
    "#setting the signicance level(alpha)\n",
    "alpha = 0.05"
   ]
  },
  {
   "cell_type": "code",
   "execution_count": 14,
   "id": "8e2c3851",
   "metadata": {},
   "outputs": [
    {
     "name": "stdout",
     "output_type": "stream",
     "text": [
      "f-statistic: 358.8514595342597\n",
      "p-value: 4.552931539744962e-103\n"
     ]
    }
   ],
   "source": [
    "#calculating f-statistic and p-value\n",
    "f, p = f_oneway(data['TV'],data['Radio'],data['Newspaper'])\n",
    "print(\"f-statistic:\",f)\n",
    "print(\"p-value:\",p)"
   ]
  },
  {
   "cell_type": "code",
   "execution_count": 15,
   "id": "7df7dd34",
   "metadata": {},
   "outputs": [
    {
     "name": "stdout",
     "output_type": "stream",
     "text": [
      "We reject null hypothesis, that means the amount spent for the three advertisements are not all equal.\n"
     ]
    }
   ],
   "source": [
    "#comparing p-value and alpha\n",
    "if p < alpha:\n",
    "    print('We reject null hypothesis, that means the amount spent for the three advertisements are not all equal.')\n",
    "else:\n",
    "    print('We accept null hypothesis, that means the amount spent for the three advertisements are equal.')"
   ]
  }
 ],
 "metadata": {
  "kernelspec": {
   "display_name": "Python 3",
   "language": "python",
   "name": "python3"
  },
  "language_info": {
   "codemirror_mode": {
    "name": "ipython",
    "version": 3
   },
   "file_extension": ".py",
   "mimetype": "text/x-python",
   "name": "python",
   "nbconvert_exporter": "python",
   "pygments_lexer": "ipython3",
   "version": "3.8.8"
  }
 },
 "nbformat": 4,
 "nbformat_minor": 5
}
