{
 "cells": [
  {
   "cell_type": "markdown",
   "metadata": {},
   "source": [
    "# <u>Q&A Activity (Python)</u>"
   ]
  },
  {
   "cell_type": "markdown",
   "metadata": {},
   "source": [
    "## Submitted by: Group 7"
   ]
  },
  {
   "cell_type": "markdown",
   "metadata": {},
   "source": [
    "### Contributors: *Fen Francis Pereira, Jayaram K, Anju Jayan, Ashmina T, Ashik James T*"
   ]
  },
  {
   "cell_type": "markdown",
   "metadata": {
    "id": "4z_Z-K1tlrS7"
   },
   "source": [
    "## 1. Complete the following code to find the area of an equilateral triangle. Output should be as displayed"
   ]
  },
  {
   "cell_type": "code",
   "execution_count": 3,
   "metadata": {
    "id": "rP2qFD_SlrS_"
   },
   "outputs": [
    {
     "name": "stdout",
     "output_type": "stream",
     "text": [
      "Enter the side of the equilateral triangle: 7\n",
      "Area = 21.22\n"
     ]
    }
   ],
   "source": [
    "import math\n",
    "side = float(input(\"Enter the side of the equilateral triangle: \"))\n",
    "area = ((math.sqrt(3))/4)*pow(side,2)\n",
    "print(\"Area =\",round(area,2))\n",
    "\n"
   ]
  },
  {
   "cell_type": "markdown",
   "metadata": {
    "id": "TjVKjIfclrTB"
   },
   "source": [
    "## 2. Write a program to count the number of each characters in a string"
   ]
  },
  {
   "cell_type": "code",
   "execution_count": 1,
   "metadata": {
    "id": "JY5seVUQlrTC"
   },
   "outputs": [
    {
     "name": "stdout",
     "output_type": "stream",
     "text": [
      "Enter the string:hello everyone\n",
      "{'h': 1, 'e': 4, 'l': 2, 'o': 2, 'v': 1, 'r': 1, 'y': 1, 'n': 1}\n"
     ]
    }
   ],
   "source": [
    "string=input(\"Enter the string:\").replace(\" \",\"\")\n",
    "s=dict()\n",
    "for i in string:\n",
    "    if i in s:\n",
    "        s[i]= s[i]+1\n",
    "        \n",
    "    else:\n",
    "            s[i]=1\n",
    "\n",
    "print(s)   \n"
   ]
  },
  {
   "cell_type": "markdown",
   "metadata": {
    "id": "l3LCULfklrTD"
   },
   "source": [
    "## Write a program to find the area and perimeter of a rectangle using functions"
   ]
  },
  {
   "cell_type": "code",
   "execution_count": 1,
   "metadata": {
    "id": "8haQD8edlrTD"
   },
   "outputs": [
    {
     "name": "stdout",
     "output_type": "stream",
     "text": [
      "Enter length of rectangle:5\n",
      "Enter breadth of  rectangle:8\n",
      "Area of rectangle is 40\n",
      "Perimeter of rectangle is 26\n"
     ]
    }
   ],
   "source": [
    "def area_of_rectangle(a,b):\n",
    " return a*b\n",
    "\n",
    "def perimeter_of_rectangle(a,b):\n",
    " return (a+b)*2\n",
    " \n",
    "a=int(input('Enter length of rectangle:'))\n",
    "b=int(input('Enter breadth of  rectangle:'))\n",
    "\n",
    "area=area_of_rectangle(a,b)\n",
    "print('Area of rectangle is',area)\n",
    "\n",
    "perimeter=perimeter_of_rectangle(a,b)\n",
    "print('Perimeter of rectangle is', perimeter)\n"
   ]
  },
  {
   "cell_type": "markdown",
   "metadata": {
    "id": "JHK4ZdsflrTE"
   },
   "source": [
    "## 4. Write a program to print the fibonacci series till a specified number"
   ]
  },
  {
   "cell_type": "code",
   "execution_count": 2,
   "metadata": {
    "id": "LyBEj-4SlrTE"
   },
   "outputs": [
    {
     "name": "stdout",
     "output_type": "stream",
     "text": [
      "Enter the number of fibonacci series:5\n",
      "0\n",
      "1\n",
      "1\n",
      "2\n",
      "3\n"
     ]
    }
   ],
   "source": [
    "num=int(input('Enter the number of fibonacci series:'))\n",
    "\n",
    "#first two numbers\n",
    "a=0\n",
    "b=1\n",
    "count=0\n",
    "\n",
    "if (num<=0):\n",
    " print('Enter a positive number')\n",
    "\n",
    "elif(num==1):\n",
    " print(a)\n",
    "\n",
    "else:\n",
    "    while(count<num):\n",
    "        print(a)\n",
    "        c=a+b\n",
    "        a=b\n",
    "        b=c\n",
    "        count+=1\n",
    "    "
   ]
  },
  {
   "cell_type": "markdown",
   "metadata": {
    "id": "u4uBUcQKlrTE"
   },
   "source": [
    "## 5. Complete the following code to find the minimum of 3 number using cinditional statements. Output should be as displayed"
   ]
  },
  {
   "cell_type": "code",
   "execution_count": 1,
   "metadata": {
    "id": "XdZwrZjIlrTF"
   },
   "outputs": [
    {
     "name": "stdout",
     "output_type": "stream",
     "text": [
      "Enter three numbers followed by  : 5 6 5\n",
      "First number : 5\n",
      "Second number : 6\n",
      "Third number : 5\n",
      "5  is smallest\n"
     ]
    }
   ],
   "source": [
    "a,b,c = input(\"Enter three numbers followed by  : \").split()\n",
    "a=int(a)\n",
    "b=int(b)\n",
    "c=int(c)\n",
    "print(\"First number :\",a)\n",
    "print(\"Second number :\",b)\n",
    "print(\"Third number :\",c)\n",
    "if (a==b and b==c):\n",
    "    print(\"Entered numbers are equal!!!\")\n",
    "elif (a < b and a < c):\n",
    "         print(a,\" is smallest\")\n",
    "elif b < a :\n",
    "         print(b,\" is smallest\")\n",
    "else:\n",
    "         print(c,\" is smallest\")"
   ]
  },
  {
   "cell_type": "markdown",
   "metadata": {
    "id": "aR_CnToWlrTG"
   },
   "source": [
    "## 6. Write a program to print star pyramind. The number of rows should be taken as input from the user"
   ]
  },
  {
   "cell_type": "code",
   "execution_count": 2,
   "metadata": {
    "id": "M37A-buplrTG"
   },
   "outputs": [
    {
     "name": "stdout",
     "output_type": "stream",
     "text": [
      "enter the number of rows: 10\n",
      "          * \n",
      "         * * \n",
      "        * * * \n",
      "       * * * * \n",
      "      * * * * * \n",
      "     * * * * * * \n",
      "    * * * * * * * \n",
      "   * * * * * * * * \n",
      "  * * * * * * * * * \n",
      " * * * * * * * * * * \n"
     ]
    }
   ],
   "source": [
    "rows_input=int(input('enter the number of rows: '))\n",
    "for i in range(0,rows_input):\n",
    "    k=rows_input-i-1\n",
    "    print(\" \"*k,\"* \"*(i+1))"
   ]
  },
  {
   "cell_type": "markdown",
   "metadata": {
    "id": "tlY6aFWBlrTH"
   },
   "source": [
    "## 7. Complete the following code to convert hour into seconds. Output should be as displayed"
   ]
  },
  {
   "cell_type": "code",
   "execution_count": 3,
   "metadata": {
    "id": "YOZQFk7FlrTH"
   },
   "outputs": [
    {
     "name": "stdout",
     "output_type": "stream",
     "text": [
      "Enter the time in hours: 2\n",
      "2  Hour is equal to 7200  Seconds\n"
     ]
    }
   ],
   "source": [
    "def to_seconds(t):\n",
    "    t *= 60 * 60\n",
    "    return t\n",
    "time_in_hours = int(input(\"Enter the time in hours: \"))\n",
    "print(time_in_hours ,\" Hour is equal to\" ,to_seconds(time_in_hours) ,\" Seconds\")"
   ]
  },
  {
   "cell_type": "markdown",
   "metadata": {
    "id": "CnYorNiLlrTI"
   },
   "source": [
    "## 8. Write a program to print multiplication table as below"
   ]
  },
  {
   "cell_type": "code",
   "execution_count": 4,
   "metadata": {
    "id": "dPQqDPuDlrTI"
   },
   "outputs": [
    {
     "name": "stdout",
     "output_type": "stream",
     "text": [
      "Enter the number whose multiplication table is to be printed: 8\n",
      "Enter the limit: 15\n",
      "Multiplication Table of 8 is:\n",
      "8 X 1 = 8\n",
      "8 X 2 = 16\n",
      "8 X 3 = 24\n",
      "8 X 4 = 32\n",
      "8 X 5 = 40\n",
      "8 X 6 = 48\n",
      "8 X 7 = 56\n",
      "8 X 8 = 64\n",
      "8 X 9 = 72\n",
      "8 X 10 = 80\n",
      "8 X 11 = 88\n",
      "8 X 12 = 96\n",
      "8 X 13 = 104\n",
      "8 X 14 = 112\n",
      "8 X 15 = 120\n"
     ]
    }
   ],
   "source": [
    "number = int(input(\"Enter the number whose multiplication table is to be printed: \"))\n",
    "limit = int(input(\"Enter the limit: \"))\n",
    "print(\"Multiplication Table of\",number,\"is:\")\n",
    "for i in range(1,limit+1):\n",
    "    print(number,\"X\",i,\"=\",number*i)"
   ]
  },
  {
   "cell_type": "markdown",
   "metadata": {
    "id": "Fiaez8iblrTI"
   },
   "source": [
    "## 9. Write a program to take your 5 favorite food as list and print each as 'I like Biriyani'"
   ]
  },
  {
   "cell_type": "code",
   "execution_count": 5,
   "metadata": {
    "id": "39W1zFX7lrTJ"
   },
   "outputs": [
    {
     "name": "stdout",
     "output_type": "stream",
     "text": [
      "Enter values: Biriyani,Fried Rice,Ice cream,Masala Dosa,Juice\n",
      "I like Biriyani\n",
      "I like Fried Rice\n",
      "I like Ice cream\n",
      "I like Masala Dosa\n",
      "I like Juice\n"
     ]
    }
   ],
   "source": [
    "num_list = list(input(\"Enter values: \").split(\",\"))       \n",
    "for j in num_list:\n",
    "    print('I like',j)"
   ]
  },
  {
   "cell_type": "markdown",
   "metadata": {
    "id": "3vlcDNNEP7d_"
   },
   "source": [
    "## 10. Find error(s) in the following code(if any) and rewrite code.\n",
    "\n"
   ]
  },
  {
   "cell_type": "code",
   "execution_count": 6,
   "metadata": {
    "id": "coREkcY3P9sG"
   },
   "outputs": [
    {
     "name": "stdout",
     "output_type": "stream",
     "text": [
      "Enter value of x: 23\n",
      "They are unequal\n"
     ]
    }
   ],
   "source": [
    "x = int(input(\"Enter value of x: \"))\n",
    "\n",
    "for y in range(0,10):\n",
    "    if x == y:\n",
    "        print(\"They are equal\")\n",
    "        break\n",
    "else:\n",
    "    print(\"They are unequal\")"
   ]
  }
 ],
 "metadata": {
  "colab": {
   "collapsed_sections": [],
   "name": "Q&A activity student file.ipynb",
   "provenance": []
  },
  "kernelspec": {
   "display_name": "Python 3",
   "language": "python",
   "name": "python3"
  },
  "language_info": {
   "codemirror_mode": {
    "name": "ipython",
    "version": 3
   },
   "file_extension": ".py",
   "mimetype": "text/x-python",
   "name": "python",
   "nbconvert_exporter": "python",
   "pygments_lexer": "ipython3",
   "version": "3.8.8"
  }
 },
 "nbformat": 4,
 "nbformat_minor": 1
}
